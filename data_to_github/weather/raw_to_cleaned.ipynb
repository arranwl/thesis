{
 "cells": [
  {
   "cell_type": "code",
   "execution_count": 1,
   "id": "918c1f03",
   "metadata": {},
   "outputs": [],
   "source": [
    "import pandas as pd\n",
    "import numpy as np\n",
    "from os import listdir"
   ]
  },
  {
   "cell_type": "markdown",
   "id": "6a985808",
   "metadata": {},
   "source": [
    "The cells below important the weather station coordinates file to get the formatted names, and initializes some lists for easy cleaning in the later functions."
   ]
  },
  {
   "cell_type": "code",
   "execution_count": 2,
   "id": "84ae2133",
   "metadata": {},
   "outputs": [],
   "source": [
    "names_df = pd.read_csv('weather_stations_coordinates.csv')\n",
    "names = list(names_df['0'])\n",
    "names.sort()"
   ]
  },
  {
   "cell_type": "code",
   "execution_count": 3,
   "id": "02b2e176",
   "metadata": {},
   "outputs": [],
   "source": [
    "path = ['weather/','/days_by_year']"
   ]
  },
  {
   "cell_type": "code",
   "execution_count": 4,
   "id": "b534888e",
   "metadata": {},
   "outputs": [],
   "source": [
    "months_sel = ['Year', 'Month', 'Day', 'Max Temp (°C)', 'Min Temp (°C)', 'Mean Temp (°C)',\n",
    "              'Total Rain (mm)', 'Total Snow (cm)', 'Total Precip (mm)']"
   ]
  },
  {
   "cell_type": "code",
   "execution_count": 5,
   "id": "f16da79f",
   "metadata": {},
   "outputs": [],
   "source": [
    "months_rename = ['Month', 'Year', 'Day', 'Mean Max Temp', 'Mean Min Temp', 'Mean Temp',\n",
    "              'Total Rain', 'Total Snow', 'Total Precip']"
   ]
  },
  {
   "cell_type": "code",
   "execution_count": 6,
   "id": "288b3710",
   "metadata": {},
   "outputs": [],
   "source": [
    "years_sel = ['Year', 'Month', 'Mean Max Temp (°C)', 'Mean Min Temp (°C)', 'Mean Temp (°C)',\n",
    "              'Total Rain (mm)', 'Total Snow (cm)', 'Total Precip (mm)']"
   ]
  },
  {
   "cell_type": "code",
   "execution_count": 7,
   "id": "b2a132e1",
   "metadata": {},
   "outputs": [],
   "source": [
    "years_rename = ['Year', 'Month', 'Mean Max Temp', 'Mean Min Temp', 'Mean Temp',\n",
    "              'Total Rain', 'Total Snow', 'Total Precip']"
   ]
  },
  {
   "cell_type": "markdown",
   "id": "9679d136",
   "metadata": {},
   "source": [
    "These two functions are for whether the data is stored with each row as a day-months by year, or month-year in one file. Using the lists above, the functions correctly get the desired weather data, and then renames it appropriately. "
   ]
  },
  {
   "cell_type": "code",
   "execution_count": 8,
   "id": "a8822448",
   "metadata": {},
   "outputs": [],
   "source": [
    "def get_merged(town, files):\n",
    "    output = []\n",
    "    for file in files:\n",
    "        df = pd.read_csv(town + '/days_by_year/' + file)\n",
    "        df = df[months_sel]\n",
    "        dfm = df.groupby('Month').mean().reset_index()\n",
    "        dfm.columns = months_rename\n",
    "        dfm = dfm.drop(['Day','Total Rain','Total Snow', 'Total Precip'],axis=1)\n",
    "        dfs = df.groupby('Month').sum().reset_index()\n",
    "        dfs.columns = months_rename\n",
    "        dfs = dfs.drop('Day',axis=1)\n",
    "        dfs = dfs[['Total Rain','Total Snow', 'Total Precip']]\n",
    "        dff = pd.concat([dfm, dfs], axis=1)\n",
    "        output.append(dff)\n",
    "    merged = pd.concat(output, axis=0)\n",
    "    merged = merged[['Year', 'Month', 'Mean Max Temp', 'Mean Min Temp', 'Mean Temp',\n",
    "           'Total Rain', 'Total Snow', 'Total Precip']]\n",
    "    merged = merged.dropna()\n",
    "    return merged"
   ]
  },
  {
   "cell_type": "code",
   "execution_count": 9,
   "id": "dd4318b9",
   "metadata": {},
   "outputs": [],
   "source": [
    "def get_year(town, files):\n",
    "    df = pd.read_csv(town + '/months_by_years/' + files[0])\n",
    "    df = df[years_sel]\n",
    "    df.columns = years_rename\n",
    "    return df"
   ]
  },
  {
   "cell_type": "markdown",
   "id": "07769d6c",
   "metadata": {},
   "source": [
    "Using the above functions, the cell below loops through all weather stations and outputs a clean weather data file in each folder."
   ]
  },
  {
   "cell_type": "code",
   "execution_count": 11,
   "id": "a920d127",
   "metadata": {},
   "outputs": [],
   "source": [
    "towns = [x for x in listdir() if x.find('.') == -1]\n",
    "for town in towns:\n",
    "    folders = [x for x in listdir(town) if x.find('.') == -1]\n",
    "    output = pd.DataFrame()\n",
    "    for folder in folders:\n",
    "        files = [x for x in listdir(town + '/' + folder) if x[-4:] == '.csv']\n",
    "        if folder  == 'days_by_year':\n",
    "            merged = get_merged(town, files)\n",
    "            output = pd.concat([output, merged], axis=0)\n",
    "        elif folder == 'months_by_years':\n",
    "            cleaned = get_year(town, files)\n",
    "            output = pd.concat([output, cleaned], axis=0)\n",
    "    output = output.sort_values(['Year','Month'])\n",
    "    output = output.dropna()\n",
    "    output.to_csv(town + '/' + town + '_cleaned.csv', index=False)"
   ]
  },
  {
   "cell_type": "markdown",
   "id": "5b53a97f",
   "metadata": {},
   "source": [
    "Using the clean weather data from each weather station folder as generated above, this cell concatenates all the data into one large file."
   ]
  },
  {
   "cell_type": "code",
   "execution_count": 17,
   "id": "27b4b2cb",
   "metadata": {},
   "outputs": [],
   "source": [
    "towns = [x for x in listdir() if x.find('.') == -1]\n",
    "towns.sort()\n",
    "data_list = []\n",
    "for i in range(len(towns)):\n",
    "    temp = pd.read_csv(towns[i] + '/' + towns[i] + '_cleaned.csv')\n",
    "    temp['Weather City'] = names[i]\n",
    "    data_list.append(temp)\n",
    "compiled_data = pd.concat(data_list)\n",
    "compiled_data = compiled_data[['Weather City', 'Year', 'Month', 'Mean Max Temp', 'Mean Min Temp', 'Mean Temp', 'Total Rain', 'Total Snow', 'Total Precip']]"
   ]
  },
  {
   "cell_type": "code",
   "execution_count": 18,
   "id": "6d953377",
   "metadata": {},
   "outputs": [
    {
     "data": {
      "text/html": [
       "<div>\n",
       "<style scoped>\n",
       "    .dataframe tbody tr th:only-of-type {\n",
       "        vertical-align: middle;\n",
       "    }\n",
       "\n",
       "    .dataframe tbody tr th {\n",
       "        vertical-align: top;\n",
       "    }\n",
       "\n",
       "    .dataframe thead th {\n",
       "        text-align: right;\n",
       "    }\n",
       "</style>\n",
       "<table border=\"1\" class=\"dataframe\">\n",
       "  <thead>\n",
       "    <tr style=\"text-align: right;\">\n",
       "      <th></th>\n",
       "      <th>Weather City</th>\n",
       "      <th>Year</th>\n",
       "      <th>Month</th>\n",
       "      <th>Mean Max Temp</th>\n",
       "      <th>Mean Min Temp</th>\n",
       "      <th>Mean Temp</th>\n",
       "      <th>Total Rain</th>\n",
       "      <th>Total Snow</th>\n",
       "      <th>Total Precip</th>\n",
       "    </tr>\n",
       "  </thead>\n",
       "  <tbody>\n",
       "    <tr>\n",
       "      <th>0</th>\n",
       "      <td>Bella Coola</td>\n",
       "      <td>1983.0</td>\n",
       "      <td>2</td>\n",
       "      <td>7.400000</td>\n",
       "      <td>0.400000</td>\n",
       "      <td>3.900000</td>\n",
       "      <td>74.0</td>\n",
       "      <td>1.8</td>\n",
       "      <td>75.0</td>\n",
       "    </tr>\n",
       "    <tr>\n",
       "      <th>1</th>\n",
       "      <td>Bella Coola</td>\n",
       "      <td>1983.0</td>\n",
       "      <td>3</td>\n",
       "      <td>12.400000</td>\n",
       "      <td>-0.800000</td>\n",
       "      <td>5.800000</td>\n",
       "      <td>37.5</td>\n",
       "      <td>0.0</td>\n",
       "      <td>37.5</td>\n",
       "    </tr>\n",
       "    <tr>\n",
       "      <th>2</th>\n",
       "      <td>Bella Coola</td>\n",
       "      <td>1983.0</td>\n",
       "      <td>4</td>\n",
       "      <td>16.300000</td>\n",
       "      <td>2.600000</td>\n",
       "      <td>9.500000</td>\n",
       "      <td>9.5</td>\n",
       "      <td>0.0</td>\n",
       "      <td>9.5</td>\n",
       "    </tr>\n",
       "    <tr>\n",
       "      <th>3</th>\n",
       "      <td>Bella Coola</td>\n",
       "      <td>1983.0</td>\n",
       "      <td>5</td>\n",
       "      <td>19.300000</td>\n",
       "      <td>7.000000</td>\n",
       "      <td>13.200000</td>\n",
       "      <td>36.0</td>\n",
       "      <td>0.0</td>\n",
       "      <td>36.0</td>\n",
       "    </tr>\n",
       "    <tr>\n",
       "      <th>4</th>\n",
       "      <td>Bella Coola</td>\n",
       "      <td>1983.0</td>\n",
       "      <td>6</td>\n",
       "      <td>17.900000</td>\n",
       "      <td>10.900000</td>\n",
       "      <td>14.400000</td>\n",
       "      <td>89.4</td>\n",
       "      <td>0.0</td>\n",
       "      <td>89.4</td>\n",
       "    </tr>\n",
       "    <tr>\n",
       "      <th>...</th>\n",
       "      <td>...</td>\n",
       "      <td>...</td>\n",
       "      <td>...</td>\n",
       "      <td>...</td>\n",
       "      <td>...</td>\n",
       "      <td>...</td>\n",
       "      <td>...</td>\n",
       "      <td>...</td>\n",
       "      <td>...</td>\n",
       "    </tr>\n",
       "    <tr>\n",
       "      <th>728</th>\n",
       "      <td>Williams Lake</td>\n",
       "      <td>2021.0</td>\n",
       "      <td>8</td>\n",
       "      <td>21.985714</td>\n",
       "      <td>9.157143</td>\n",
       "      <td>15.600000</td>\n",
       "      <td>28.5</td>\n",
       "      <td>0.0</td>\n",
       "      <td>32.9</td>\n",
       "    </tr>\n",
       "    <tr>\n",
       "      <th>729</th>\n",
       "      <td>Williams Lake</td>\n",
       "      <td>2021.0</td>\n",
       "      <td>9</td>\n",
       "      <td>16.906667</td>\n",
       "      <td>5.833333</td>\n",
       "      <td>11.396667</td>\n",
       "      <td>36.3</td>\n",
       "      <td>0.0</td>\n",
       "      <td>36.3</td>\n",
       "    </tr>\n",
       "    <tr>\n",
       "      <th>730</th>\n",
       "      <td>Williams Lake</td>\n",
       "      <td>2021.0</td>\n",
       "      <td>10</td>\n",
       "      <td>8.710345</td>\n",
       "      <td>-0.058621</td>\n",
       "      <td>4.355172</td>\n",
       "      <td>24.1</td>\n",
       "      <td>0.6</td>\n",
       "      <td>24.6</td>\n",
       "    </tr>\n",
       "    <tr>\n",
       "      <th>731</th>\n",
       "      <td>Williams Lake</td>\n",
       "      <td>2021.0</td>\n",
       "      <td>11</td>\n",
       "      <td>3.866667</td>\n",
       "      <td>-3.359259</td>\n",
       "      <td>0.259259</td>\n",
       "      <td>14.4</td>\n",
       "      <td>14.0</td>\n",
       "      <td>26.6</td>\n",
       "    </tr>\n",
       "    <tr>\n",
       "      <th>732</th>\n",
       "      <td>Williams Lake</td>\n",
       "      <td>2021.0</td>\n",
       "      <td>12</td>\n",
       "      <td>-9.896429</td>\n",
       "      <td>-17.096429</td>\n",
       "      <td>-13.521429</td>\n",
       "      <td>5.3</td>\n",
       "      <td>77.1</td>\n",
       "      <td>73.9</td>\n",
       "    </tr>\n",
       "  </tbody>\n",
       "</table>\n",
       "<p>14292 rows × 9 columns</p>\n",
       "</div>"
      ],
      "text/plain": [
       "      Weather City    Year Month  Mean Max Temp  Mean Min Temp  Mean Temp  \\\n",
       "0      Bella Coola  1983.0     2       7.400000       0.400000   3.900000   \n",
       "1      Bella Coola  1983.0     3      12.400000      -0.800000   5.800000   \n",
       "2      Bella Coola  1983.0     4      16.300000       2.600000   9.500000   \n",
       "3      Bella Coola  1983.0     5      19.300000       7.000000  13.200000   \n",
       "4      Bella Coola  1983.0     6      17.900000      10.900000  14.400000   \n",
       "..             ...     ...   ...            ...            ...        ...   \n",
       "728  Williams Lake  2021.0     8      21.985714       9.157143  15.600000   \n",
       "729  Williams Lake  2021.0     9      16.906667       5.833333  11.396667   \n",
       "730  Williams Lake  2021.0    10       8.710345      -0.058621   4.355172   \n",
       "731  Williams Lake  2021.0    11       3.866667      -3.359259   0.259259   \n",
       "732  Williams Lake  2021.0    12      -9.896429     -17.096429 -13.521429   \n",
       "\n",
       "     Total Rain  Total Snow  Total Precip  \n",
       "0          74.0         1.8          75.0  \n",
       "1          37.5         0.0          37.5  \n",
       "2           9.5         0.0           9.5  \n",
       "3          36.0         0.0          36.0  \n",
       "4          89.4         0.0          89.4  \n",
       "..          ...         ...           ...  \n",
       "728        28.5         0.0          32.9  \n",
       "729        36.3         0.0          36.3  \n",
       "730        24.1         0.6          24.6  \n",
       "731        14.4        14.0          26.6  \n",
       "732         5.3        77.1          73.9  \n",
       "\n",
       "[14292 rows x 9 columns]"
      ]
     },
     "execution_count": 18,
     "metadata": {},
     "output_type": "execute_result"
    }
   ],
   "source": [
    "compiled_data"
   ]
  },
  {
   "cell_type": "code",
   "execution_count": 19,
   "id": "eee71c97",
   "metadata": {},
   "outputs": [],
   "source": [
    "compiled_data.to_csv('clean_weather.csv', index=False)"
   ]
  },
  {
   "cell_type": "code",
   "execution_count": null,
   "id": "04828e1f",
   "metadata": {},
   "outputs": [],
   "source": []
  }
 ],
 "metadata": {
  "kernelspec": {
   "display_name": "Python 3 (ipykernel)",
   "language": "python",
   "name": "python3"
  },
  "language_info": {
   "codemirror_mode": {
    "name": "ipython",
    "version": 3
   },
   "file_extension": ".py",
   "mimetype": "text/x-python",
   "name": "python",
   "nbconvert_exporter": "python",
   "pygments_lexer": "ipython3",
   "version": "3.9.15"
  }
 },
 "nbformat": 4,
 "nbformat_minor": 5
}
