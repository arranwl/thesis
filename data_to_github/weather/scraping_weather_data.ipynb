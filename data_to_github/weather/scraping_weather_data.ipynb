{
 "cells": [
  {
   "cell_type": "code",
   "execution_count": 1,
   "id": "6ac66689",
   "metadata": {},
   "outputs": [],
   "source": [
    "import numpy as np\n",
    "import pandas as pd\n",
    "from bs4 import BeautifulSoup\n",
    "import requests\n",
    "from selenium import webdriver\n",
    "from selenium.webdriver.common.by import By\n",
    "from selenium.webdriver.support.ui import WebDriverWait\n",
    "from selenium.webdriver.support import expected_conditions as EC\n",
    "import time"
   ]
  },
  {
   "cell_type": "code",
   "execution_count": 2,
   "id": "e745f22c",
   "metadata": {},
   "outputs": [],
   "source": [
    "def get_coords(url):\n",
    "    page = requests.get(url)\n",
    "    soup = BeautifulSoup(page.content, \"html.parser\")\n",
    "    coords = []\n",
    "    for el in [x.text.strip() for x in soup.find_all('div', class_='col-lg-6 col-md-7 col-sm-7 col-xs-7')][:2]:\n",
    "        neg = 1.0\n",
    "        if el[-1] == 'W':\n",
    "            neg = -1.0\n",
    "        deg = el[:el.find('°')]\n",
    "        mins = el[(el.find('°')+1):(el.find('\\''))]\n",
    "        secs = el[(el.find('\\'')+1):el.find('.')]\n",
    "        out = float(deg) + (float(mins)/60) + (float(secs)/3600)\n",
    "        out = neg*out\n",
    "        coords.append(out)\n",
    "    return coords"
   ]
  },
  {
   "cell_type": "code",
   "execution_count": 3,
   "id": "4ab7fb4b",
   "metadata": {},
   "outputs": [],
   "source": [
    "def get_options(folder = ''):\n",
    "    options = webdriver.ChromeOptions() \n",
    "    prefs = {'download.default_directory' : '/Users/arran/Documents/Spring_2023/arran_thesis/new_data/weather/' + folder}\n",
    "    options.add_experimental_option('prefs', prefs)\n",
    "    return options"
   ]
  },
  {
   "cell_type": "code",
   "execution_count": 4,
   "id": "c6565a55",
   "metadata": {},
   "outputs": [],
   "source": [
    "all_coords = []"
   ]
  },
  {
   "cell_type": "code",
   "execution_count": 5,
   "id": "ce10106d",
   "metadata": {},
   "outputs": [],
   "source": [
    "cdrive = '/opt/homebrew/Caskroom/chromedriver/109.0.5414.74/chromedriver'"
   ]
  },
  {
   "cell_type": "markdown",
   "id": "78a5c181",
   "metadata": {},
   "source": [
    "### Code is repeated with slight variation for each weather station. Typically two seperate stations were needed, one that contained data on each month by day, and data by each month by year. Many files were needed for the former, as each year was a different file. To save time, and also reproducibility, this scrapping script was written. It goes to each individual web page (each page varies only by the year, simplifying the process), and then clicks the download button, storing the file in the correct location. It take ~30 minutes for all files to run.\n",
    "\n",
    "### Additionally, it stores the coordinates of each station, which is needed when locating the nearest station to a fire."
   ]
  },
  {
   "cell_type": "code",
   "execution_count": 6,
   "id": "f6cc59d8",
   "metadata": {},
   "outputs": [
    {
     "name": "stderr",
     "output_type": "stream",
     "text": [
      "/var/folders/f9/9vn_4nrs38q_5092cm0ssfhm0000gn/T/ipykernel_79954/3682783526.py:4: DeprecationWarning: executable_path has been deprecated, please pass in a Service object\n",
      "  driver = webdriver.Chrome(cdrive, options=get_options('kamloops/days_by_year'))\n",
      "/var/folders/f9/9vn_4nrs38q_5092cm0ssfhm0000gn/T/ipykernel_79954/3682783526.py:12: DeprecationWarning: executable_path has been deprecated, please pass in a Service object\n",
      "  driver = webdriver.Chrome(cdrive, options=get_options('kamloops/months_by_years'))\n"
     ]
    }
   ],
   "source": [
    "#Kamloops, days_by_year\n",
    "url = ['https://climate.weather.gc.ca/climate_data/daily_data_e.html?hlyRange=2013-06-11%7C2022-10-18&dlyRange=2013-06-13%7C2022-10-17&mlyRange=%7C&StationID=51423&Prov=BC&urlExtension=_e.html&searchType=stnName&optLimit=yearRange&StartYear=1840&EndYear=2022&selRowPerPage=25&Line=1&searchMethod=contains&txtStationName=kamloops&timeframe=2&Day=18&Year=','&Month=10#']\n",
    "for i in range(2013,2022):\n",
    "    driver = webdriver.Chrome(cdrive, options=get_options('kamloops/days_by_year'))\n",
    "    driver.get(url[0] + str(i) + url[1])\n",
    "    driver.find_element(By.XPATH, '//*[@id=\"climateNav\"]/div[3]/section/div[1]/form/input[7]').click()\n",
    "    time.sleep(1)\n",
    "    driver.close()\n",
    "    \n",
    "#Kamloops, months_by_years\n",
    "url = 'https://climate.weather.gc.ca/climate_data/monthly_data_e.html?hlyRange=1953-01-01%7C2013-06-13&dlyRange=1951-01-01%7C2013-06-12&mlyRange=1951-01-01%7C2013-06-01&StationID=1275&Prov=BC&urlExtension=_e.html&searchType=stnName&optLimit=yearRange&StartYear=1840&EndYear=2022&selRowPerPage=25&Line=2&searchMethod=contains&Month=10&Day=19&txtStationName=kamloops&timeframe=3&Year=2013'\n",
    "driver = webdriver.Chrome(cdrive, options=get_options('kamloops/months_by_years'))\n",
    "driver.get(url)\n",
    "driver.find_element(By.XPATH, '//*[@id=\"climateNav\"]/div[3]/section/div[1]/form/input[7]').click()\n",
    "time.sleep(1)\n",
    "driver.close()\n",
    "all_coords.append(['Kamloops'] + get_coords(url))"
   ]
  },
  {
   "cell_type": "code",
   "execution_count": 7,
   "id": "94151e3d",
   "metadata": {},
   "outputs": [
    {
     "name": "stderr",
     "output_type": "stream",
     "text": [
      "/var/folders/f9/9vn_4nrs38q_5092cm0ssfhm0000gn/T/ipykernel_79954/3233308670.py:4: DeprecationWarning: executable_path has been deprecated, please pass in a Service object\n",
      "  driver = webdriver.Chrome(cdrive, options=get_options('castlegar/days_by_year'))\n"
     ]
    }
   ],
   "source": [
    "#Castlegar, days_by_year\n",
    "url = ['https://climate.weather.gc.ca/climate_data/daily_data_e.html?hlyRange=1954-01-12%7C2013-05-16&dlyRange=1965-12-01%7C2022-10-18&mlyRange=1966-01-01%7C2007-02-01&StationID=1105&Prov=BC&urlExtension=_e.html&searchType=stnName&optLimit=yearRange&StartYear=1840&EndYear=2022&selRowPerPage=25&Line=3&searchMethod=contains&Month=12&Day=19&txtStationName=castlegar&timeframe=2&Year=']\n",
    "for i in range(1970,2022):\n",
    "    driver = webdriver.Chrome(cdrive, options=get_options('castlegar/days_by_year'))\n",
    "    driver.get(url[0] + str(i))\n",
    "    driver.find_element(By.XPATH, '//*[@id=\"climateNav\"]/div[3]/section/div[1]/form/input[7]').click()\n",
    "    time.sleep(1)\n",
    "    driver.close()\n",
    "all_coords.append(['Castlegar'] + get_coords(url[0]+'2022'))"
   ]
  },
  {
   "cell_type": "code",
   "execution_count": 8,
   "id": "50b7b9cf",
   "metadata": {},
   "outputs": [
    {
     "name": "stderr",
     "output_type": "stream",
     "text": [
      "/var/folders/f9/9vn_4nrs38q_5092cm0ssfhm0000gn/T/ipykernel_79954/1429337046.py:4: DeprecationWarning: executable_path has been deprecated, please pass in a Service object\n",
      "  driver = webdriver.Chrome(cdrive, options=get_options('nanaimo/days_by_year'))\n",
      "/var/folders/f9/9vn_4nrs38q_5092cm0ssfhm0000gn/T/ipykernel_79954/1429337046.py:13: DeprecationWarning: executable_path has been deprecated, please pass in a Service object\n",
      "  driver = webdriver.Chrome(cdrive, options=get_options('nanaimo/days_by_year'))\n"
     ]
    }
   ],
   "source": [
    "#Nanaimo, days_by_year pt1\n",
    "url = ['https://climate.weather.gc.ca/climate_data/daily_data_e.html?hlyRange=1954-01-01%7C2013-05-16&dlyRange=1947-03-01%7C2016-06-01&mlyRange=1947-01-01%7C2007-02-01&StationID=192&Prov=BC&urlExtension=_e.html&searchType=stnName&optLimit=yearRange&StartYear=1840&EndYear=2022&selRowPerPage=25&Line=3&searchMethod=contains&Month=6&Day=19&txtStationName=nanaimo&timeframe=2&Year=']\n",
    "for i in range(1980,2017):\n",
    "    driver = webdriver.Chrome(cdrive, options=get_options('nanaimo/days_by_year'))\n",
    "    driver.get(url[0] + str(i))\n",
    "    driver.find_element(By.XPATH, '//*[@id=\"climateNav\"]/div[3]/section/div[1]/form/input[7]').click()\n",
    "    time.sleep(1)\n",
    "    driver.close()\n",
    "    \n",
    "#Nanaimo, days_by_year pt2\n",
    "url = ['https://climate.weather.gc.ca/climate_data/daily_data_e.html?hlyRange=2013-05-16%7C2022-10-19&dlyRange=2016-06-02%7C2022-04-30&mlyRange=%7C&StationID=51318&Prov=BC&urlExtension=_e.html&searchType=stnName&optLimit=yearRange&StartYear=1840&EndYear=2022&selRowPerPage=25&Line=2&searchMethod=contains&Month=4&Day=19&txtStationName=nanaimo&timeframe=2&Year=']\n",
    "for i in range(2016,2022):\n",
    "    driver = webdriver.Chrome(cdrive, options=get_options('nanaimo/days_by_year'))\n",
    "    driver.get(url[0] + str(i))\n",
    "    driver.find_element(By.XPATH, '//*[@id=\"climateNav\"]/div[3]/section/div[1]/form/input[7]').click()\n",
    "    time.sleep(1)\n",
    "    driver.close()\n",
    "all_coords.append(['Nanaimo'] + get_coords(url[0]+'2022'))"
   ]
  },
  {
   "cell_type": "code",
   "execution_count": 9,
   "id": "b45422d6",
   "metadata": {},
   "outputs": [
    {
     "name": "stderr",
     "output_type": "stream",
     "text": [
      "/var/folders/f9/9vn_4nrs38q_5092cm0ssfhm0000gn/T/ipykernel_79954/3063552557.py:4: DeprecationWarning: executable_path has been deprecated, please pass in a Service object\n",
      "  driver = webdriver.Chrome(cdrive, options=get_options('prince_george/days_by_year'))\n",
      "/var/folders/f9/9vn_4nrs38q_5092cm0ssfhm0000gn/T/ipykernel_79954/3063552557.py:12: DeprecationWarning: executable_path has been deprecated, please pass in a Service object\n",
      "  driver = webdriver.Chrome(cdrive, options=get_options('prince_george/months_by_years'))\n"
     ]
    }
   ],
   "source": [
    "#Prince George, days_by_year\n",
    "url = ['https://climate.weather.gc.ca/climate_data/daily_data_e.html?hlyRange=2009-10-08%7C2022-10-19&dlyRange=2009-10-22%7C2022-10-18&mlyRange=%7C&StationID=48370&Prov=BC&urlExtension=_e.html&searchType=stnName&optLimit=yearRange&StartYear=1840&EndYear=2022&selRowPerPage=25&Line=0&searchMethod=contains&Month=10&Day=19&txtStationName=prince+george&timeframe=2&Year=']\n",
    "for i in range(2009,2022):\n",
    "    driver = webdriver.Chrome(cdrive, options=get_options('prince_george/days_by_year'))\n",
    "    driver.get(url[0] + str(i))\n",
    "    driver.find_element(By.XPATH, '//*[@id=\"climateNav\"]/div[3]/section/div[1]/form/input[7]').click()\n",
    "    time.sleep(1)\n",
    "    driver.close()\n",
    "    \n",
    "#Prince George, months_by_years\n",
    "url = 'https://climate.weather.gc.ca/climate_data/monthly_data_e.html?hlyRange=1953-01-01%7C2009-10-22&dlyRange=1942-07-01%7C2009-10-21&mlyRange=1942-01-01%7C2009-10-01&StationID=631&Prov=BC&urlExtension=_e.html&searchType=stnName&optLimit=yearRange&StartYear=1840&EndYear=2022&selRowPerPage=25&Line=4&searchMethod=contains&Month=10&Day=19&txtStationName=prince+george&timeframe=3&Year=2009'\n",
    "driver = webdriver.Chrome(cdrive, options=get_options('prince_george/months_by_years'))\n",
    "driver.get(url)\n",
    "driver.find_element(By.XPATH, '//*[@id=\"climateNav\"]/div[3]/section/div[1]/form/input[7]').click()\n",
    "time.sleep(1)\n",
    "driver.close()\n",
    "all_coords.append(['Prince George'] + get_coords(url))"
   ]
  },
  {
   "cell_type": "code",
   "execution_count": 10,
   "id": "d10d4bb4",
   "metadata": {},
   "outputs": [
    {
     "name": "stderr",
     "output_type": "stream",
     "text": [
      "/var/folders/f9/9vn_4nrs38q_5092cm0ssfhm0000gn/T/ipykernel_79954/2940836551.py:4: DeprecationWarning: executable_path has been deprecated, please pass in a Service object\n",
      "  driver = webdriver.Chrome(cdrive, options=get_options('smithers/days_by_year'))\n",
      "/var/folders/f9/9vn_4nrs38q_5092cm0ssfhm0000gn/T/ipykernel_79954/2940836551.py:12: DeprecationWarning: executable_path has been deprecated, please pass in a Service object\n",
      "  driver = webdriver.Chrome(cdrive, options=get_options('smithers/months_by_years'))\n"
     ]
    }
   ],
   "source": [
    "#Smithers, days_by_year\n",
    "url = ['https://climate.weather.gc.ca/climate_data/daily_data_e.html?hlyRange=2010-02-02%7C2022-10-19&dlyRange=2010-04-08%7C2022-10-18&mlyRange=%7C&StationID=48628&Prov=BC&urlExtension=_e.html&searchType=stnName&optLimit=yearRange&StartYear=1840&EndYear=2022&selRowPerPage=25&Line=0&searchMethod=contains&Month=10&Day=19&txtStationName=smithers&timeframe=2&Year=']\n",
    "for i in range(2010,2022):\n",
    "    driver = webdriver.Chrome(cdrive, options=get_options('smithers/days_by_year'))\n",
    "    driver.get(url[0] + str(i))\n",
    "    driver.find_element(By.XPATH, '//*[@id=\"climateNav\"]/div[3]/section/div[1]/form/input[7]').click()\n",
    "    time.sleep(1)\n",
    "    driver.close()\n",
    "    \n",
    "#Smithers, months_by_years\n",
    "url = 'https://climate.weather.gc.ca/climate_data/monthly_data_e.html?hlyRange=1953-01-01%7C2012-04-12&dlyRange=1942-06-01%7C2018-11-03&mlyRange=1942-01-01%7C2010-04-01&StationID=487&Prov=BC&urlExtension=_e.html&searchType=stnName&optLimit=yearRange&StartYear=1840&EndYear=2022&selRowPerPage=25&Line=3&searchMethod=contains&Month=10&Day=19&txtStationName=smithers&timeframe=3&Year=2010'\n",
    "driver = webdriver.Chrome(cdrive, options=get_options('smithers/months_by_years'))\n",
    "driver.get(url)\n",
    "driver.find_element(By.XPATH, '//*[@id=\"climateNav\"]/div[3]/section/div[1]/form/input[7]').click()\n",
    "time.sleep(1)\n",
    "driver.close()\n",
    "all_coords.append(['Smithers'] + get_coords(url))"
   ]
  },
  {
   "cell_type": "code",
   "execution_count": 11,
   "id": "084cdfe8",
   "metadata": {},
   "outputs": [
    {
     "name": "stderr",
     "output_type": "stream",
     "text": [
      "/var/folders/f9/9vn_4nrs38q_5092cm0ssfhm0000gn/T/ipykernel_79954/3837176062.py:4: DeprecationWarning: executable_path has been deprecated, please pass in a Service object\n",
      "  driver = webdriver.Chrome(cdrive, options=get_options('williams_lake/days_by_year'))\n",
      "/var/folders/f9/9vn_4nrs38q_5092cm0ssfhm0000gn/T/ipykernel_79954/3837176062.py:12: DeprecationWarning: executable_path has been deprecated, please pass in a Service object\n",
      "  driver = webdriver.Chrome(cdrive, options=get_options('williams_lake/months_by_years'))\n"
     ]
    }
   ],
   "source": [
    "#Williams Lake, days_by_year\n",
    "url = ['https://climate.weather.gc.ca/climate_data/daily_data_e.html?hlyRange=2012-12-03%7C2022-10-19&dlyRange=2012-12-06%7C2022-10-18&mlyRange=%7C&StationID=50820&Prov=BC&urlExtension=_e.html&searchType=stnName&optLimit=yearRange&StartYear=1840&EndYear=2022&selRowPerPage=25&Line=2&searchMethod=contains&Month=10&Day=19&txtStationName=williams+lake&timeframe=2&Year=']\n",
    "for i in range(2012,2022):\n",
    "    driver = webdriver.Chrome(cdrive, options=get_options('williams_lake/days_by_year'))\n",
    "    driver.get(url[0] + str(i))\n",
    "    driver.find_element(By.XPATH, '//*[@id=\"climateNav\"]/div[3]/section/div[1]/form/input[7]').click()\n",
    "    time.sleep(1)\n",
    "    driver.close()\n",
    "    \n",
    "#Williams Lake, months_by_years\n",
    "url = 'https://climate.weather.gc.ca/climate_data/monthly_data_e.html?hlyRange=1961-01-01%7C2012-12-06&dlyRange=1960-12-01%7C2012-12-05&mlyRange=1961-01-01%7C2012-12-01&StationID=664&Prov=BC&urlExtension=_e.html&searchType=stnName&optLimit=yearRange&StartYear=1840&EndYear=2022&selRowPerPage=25&Line=3&searchMethod=contains&Month=10&Day=19&txtStationName=williams+lake&timeframe=3&Year=2012'\n",
    "driver = webdriver.Chrome(cdrive, options=get_options('williams_lake/months_by_years'))\n",
    "driver.get(url)\n",
    "driver.find_element(By.XPATH, '//*[@id=\"climateNav\"]/div[3]/section/div[1]/form/input[7]').click()\n",
    "time.sleep(1)\n",
    "driver.close()\n",
    "all_coords.append(['Williams Lake'] + get_coords(url))"
   ]
  },
  {
   "cell_type": "code",
   "execution_count": 12,
   "id": "5db2084d",
   "metadata": {},
   "outputs": [
    {
     "name": "stderr",
     "output_type": "stream",
     "text": [
      "/var/folders/f9/9vn_4nrs38q_5092cm0ssfhm0000gn/T/ipykernel_79954/3216026093.py:4: DeprecationWarning: executable_path has been deprecated, please pass in a Service object\n",
      "  driver = webdriver.Chrome(cdrive, options=get_options('tofino/days_by_year'))\n"
     ]
    }
   ],
   "source": [
    "#Tofino\n",
    "url = ['https://climate.weather.gc.ca/climate_data/daily_data_e.html?hlyRange=1960-01-01%7C2014-05-01&dlyRange=1942-07-01%7C2022-11-02&mlyRange=1942-01-01%7C2007-02-01&StationID=277&Prov=BC&urlExtension=_e.html&searchType=stnName&optLimit=yearRange&StartYear=1840&EndYear=2022&selRowPerPage=25&Line=2&searchMethod=contains&txtStationName=tofino&timeframe=2&Day=3&Year=']\n",
    "for i in range(1970,2022):\n",
    "    driver = webdriver.Chrome(cdrive, options=get_options('tofino/days_by_year'))\n",
    "    driver.get(url[0] + str(i))\n",
    "    driver.find_element(By.XPATH, '//*[@id=\"climateNav\"]/div[3]/section/div[1]/form/input[7]').click()\n",
    "    time.sleep(1)\n",
    "    driver.close()\n",
    "all_coords.append(['Tofino'] + get_coords(url[0]+'2022'))"
   ]
  },
  {
   "cell_type": "code",
   "execution_count": 13,
   "id": "abed4714",
   "metadata": {},
   "outputs": [
    {
     "name": "stderr",
     "output_type": "stream",
     "text": [
      "/var/folders/f9/9vn_4nrs38q_5092cm0ssfhm0000gn/T/ipykernel_79954/2401970049.py:4: DeprecationWarning: executable_path has been deprecated, please pass in a Service object\n",
      "  driver = webdriver.Chrome(cdrive, options=get_options('port_hardy/days_by_year'))\n",
      "/var/folders/f9/9vn_4nrs38q_5092cm0ssfhm0000gn/T/ipykernel_79954/2401970049.py:12: DeprecationWarning: executable_path has been deprecated, please pass in a Service object\n",
      "  driver = webdriver.Chrome(cdrive, options=get_options('port_hardy/months_by_years'))\n"
     ]
    }
   ],
   "source": [
    "#Port Hardy, days_by_year\n",
    "url = ['https://climate.weather.gc.ca/climate_data/daily_data_e.html?hlyRange=2013-06-11%7C2022-11-03&dlyRange=2013-04-13%7C2022-11-03&mlyRange=%7C&StationID=51319&Prov=BC&urlExtension=_e.html&searchType=stnName&optLimit=yearRange&StartYear=1840&EndYear=2022&selRowPerPage=25&Line=1&searchMethod=contains&Month=11&Day=3&txtStationName=port+hardy&timeframe=2&Year=']\n",
    "for i in range(2013,2022):\n",
    "    driver = webdriver.Chrome(cdrive, options=get_options('port_hardy/days_by_year'))\n",
    "    driver.get(url[0] + str(i))\n",
    "    driver.find_element(By.XPATH, '//*[@id=\"climateNav\"]/div[3]/section/div[1]/form/input[7]').click()\n",
    "    time.sleep(1)\n",
    "    driver.close()\n",
    "    \n",
    "#Port Hardy, months_by_years\n",
    "url = 'https://climate.weather.gc.ca/climate_data/monthly_data_e.html?hlyRange=1953-01-01%7C2013-06-13&dlyRange=1944-02-01%7C2013-06-12&mlyRange=1944-01-01%7C2013-06-01&StationID=202&Prov=BC&urlExtension=_e.html&searchType=stnName&optLimit=yearRange&StartYear=1840&EndYear=2022&selRowPerPage=25&Line=2&searchMethod=contains&Month=11&Day=3&txtStationName=port+hardy&timeframe=3&Year=2013'\n",
    "driver = webdriver.Chrome(cdrive, options=get_options('port_hardy/months_by_years'))\n",
    "driver.get(url)\n",
    "driver.find_element(By.XPATH, '//*[@id=\"climateNav\"]/div[3]/section/div[1]/form/input[7]').click()\n",
    "time.sleep(1)\n",
    "driver.close()\n",
    "all_coords.append(['Port Hardy'] + get_coords(url))"
   ]
  },
  {
   "cell_type": "code",
   "execution_count": 14,
   "id": "51cdaa81",
   "metadata": {},
   "outputs": [
    {
     "name": "stderr",
     "output_type": "stream",
     "text": [
      "/var/folders/f9/9vn_4nrs38q_5092cm0ssfhm0000gn/T/ipykernel_79954/1277191850.py:4: DeprecationWarning: executable_path has been deprecated, please pass in a Service object\n",
      "  driver = webdriver.Chrome(cdrive, options=get_options('vancouver/days_by_year'))\n",
      "/var/folders/f9/9vn_4nrs38q_5092cm0ssfhm0000gn/T/ipykernel_79954/1277191850.py:12: DeprecationWarning: executable_path has been deprecated, please pass in a Service object\n",
      "  driver = webdriver.Chrome(cdrive, options=get_options('vancouver/months_by_years'))\n"
     ]
    }
   ],
   "source": [
    "#Vancouver, days_by_year\n",
    "url = ['https://climate.weather.gc.ca/climate_data/daily_data_e.html?hlyRange=2013-06-11%7C2022-11-03&dlyRange=2013-06-13%7C2022-11-03&mlyRange=%7C&StationID=51442&Prov=BC&urlExtension=_e.html&searchType=stnName&optLimit=yearRange&StartYear=1840&EndYear=2022&selRowPerPage=25&Line=39&searchMethod=contains&Month=11&Day=3&txtStationName=vancouver&timeframe=2&Year=']\n",
    "for i in range(2013,2022):\n",
    "    driver = webdriver.Chrome(cdrive, options=get_options('vancouver/days_by_year'))\n",
    "    driver.get(url[0] + str(i))\n",
    "    driver.find_element(By.XPATH, '//*[@id=\"climateNav\"]/div[3]/section/div[1]/form/input[7]').click()\n",
    "    time.sleep(1)\n",
    "    driver.close()\n",
    "    \n",
    "#Vancouver, months_by_years\n",
    "url = 'https://climate.weather.gc.ca/climate_data/monthly_data_e.html?hlyRange=1953-01-01%7C2013-06-13&dlyRange=1937-01-01%7C2013-06-12&mlyRange=1937-01-01%7C2013-06-01&StationID=889&Prov=BC&urlExtension=_e.html&searchType=stnName&optLimit=yearRange&StartYear=1840&EndYear=2022&selRowPerPage=25&Line=37&searchMethod=contains&Month=11&Day=3&txtStationName=vancouver&timeframe=3&Year=2013'\n",
    "driver = webdriver.Chrome(cdrive, options=get_options('vancouver/months_by_years'))\n",
    "driver.get(url)\n",
    "driver.find_element(By.XPATH, '//*[@id=\"climateNav\"]/div[3]/section/div[1]/form/input[7]').click()\n",
    "time.sleep(1)\n",
    "driver.close()\n",
    "all_coords.append(['Vancouver'] + get_coords(url))"
   ]
  },
  {
   "cell_type": "code",
   "execution_count": 15,
   "id": "f368a7c2",
   "metadata": {},
   "outputs": [
    {
     "name": "stderr",
     "output_type": "stream",
     "text": [
      "/var/folders/f9/9vn_4nrs38q_5092cm0ssfhm0000gn/T/ipykernel_79954/3139846427.py:4: DeprecationWarning: executable_path has been deprecated, please pass in a Service object\n",
      "  driver = webdriver.Chrome(cdrive, options=get_options('whistler/days_by_year'))\n",
      "/var/folders/f9/9vn_4nrs38q_5092cm0ssfhm0000gn/T/ipykernel_79954/3139846427.py:12: DeprecationWarning: executable_path has been deprecated, please pass in a Service object\n",
      "  driver = webdriver.Chrome(cdrive, options=get_options('whistler/months_by_years'))\n"
     ]
    }
   ],
   "source": [
    "#Whistler, days_by_year\n",
    "url = ['https://climate.weather.gc.ca/climate_data/daily_data_e.html?hlyRange=2005-01-17%7C2022-11-03&dlyRange=2005-06-13%7C2022-11-03&mlyRange=2005-11-01%7C2007-02-01&StationID=43443&Prov=BC&urlExtension=_e.html&searchType=stnName&optLimit=yearRange&StartYear=1840&EndYear=2022&selRowPerPage=25&Line=1&searchMethod=contains&Month=11&Day=3&txtStationName=whistler&timeframe=2&Year=']\n",
    "for i in range(2007,2022):\n",
    "    driver = webdriver.Chrome(cdrive, options=get_options('whistler/days_by_year'))\n",
    "    driver.get(url[0] + str(i))\n",
    "    driver.find_element(By.XPATH, '//*[@id=\"climateNav\"]/div[3]/section/div[1]/form/input[7]').click()\n",
    "    time.sleep(1)\n",
    "    driver.close()\n",
    "    \n",
    "#Whistler, months_by_years\n",
    "url = 'https://climate.weather.gc.ca/climate_data/monthly_data_e.html?hlyRange=1983-01-01%7C2014-05-01&dlyRange=1976-11-01%7C2022-11-02&mlyRange=1976-01-01%7C2007-02-01&StationID=348&Prov=BC&urlExtension=_e.html&searchType=stnName&optLimit=yearRange&StartYear=1840&EndYear=2022&selRowPerPage=25&Line=0&searchMethod=contains&Month=11&Day=3&txtStationName=whistler&timeframe=3&Year=2007'\n",
    "driver = webdriver.Chrome(cdrive, options=get_options('whistler/months_by_years'))\n",
    "driver.get(url)\n",
    "driver.find_element(By.XPATH, '//*[@id=\"climateNav\"]/div[3]/section/div[1]/form/input[7]').click()\n",
    "time.sleep(1)\n",
    "driver.close()\n",
    "all_coords.append(['Whistler'] + get_coords(url))"
   ]
  },
  {
   "cell_type": "code",
   "execution_count": 16,
   "id": "827ccf16",
   "metadata": {},
   "outputs": [
    {
     "name": "stderr",
     "output_type": "stream",
     "text": [
      "/var/folders/f9/9vn_4nrs38q_5092cm0ssfhm0000gn/T/ipykernel_79954/1686652516.py:4: DeprecationWarning: executable_path has been deprecated, please pass in a Service object\n",
      "  driver = webdriver.Chrome(cdrive, options=get_options('penticton/days_by_year'))\n",
      "/var/folders/f9/9vn_4nrs38q_5092cm0ssfhm0000gn/T/ipykernel_79954/1686652516.py:12: DeprecationWarning: executable_path has been deprecated, please pass in a Service object\n",
      "  driver = webdriver.Chrome(cdrive, options=get_options('penticton/months_by_years'))\n"
     ]
    }
   ],
   "source": [
    "#Penticton, days_by_year\n",
    "url = ['https://climate.weather.gc.ca/climate_data/daily_data_e.html?hlyRange=2012-05-07%7C2022-11-03&dlyRange=2012-05-10%7C2022-11-03&mlyRange=%7C&StationID=50269&Prov=BC&urlExtension=_e.html&searchType=stnName&optLimit=yearRange&StartYear=1840&EndYear=2022&selRowPerPage=25&Line=1&searchMethod=contains&Month=11&Day=3&txtStationName=penticton&timeframe=2&Year=']\n",
    "for i in range(2012,2022):\n",
    "    driver = webdriver.Chrome(cdrive, options=get_options('penticton/days_by_year'))\n",
    "    driver.get(url[0] + str(i))\n",
    "    driver.find_element(By.XPATH, '//*[@id=\"climateNav\"]/div[3]/section/div[1]/form/input[7]').click()\n",
    "    time.sleep(1)\n",
    "    driver.close()\n",
    "    \n",
    "#Penticton, months_by_years\n",
    "url = 'https://climate.weather.gc.ca/climate_data/monthly_data_e.html?hlyRange=1953-01-01%7C2012-05-10&dlyRange=1941-04-01%7C2012-05-10&mlyRange=1941-01-01%7C2012-05-01&StationID=1053&Prov=BC&urlExtension=_e.html&searchType=stnName&optLimit=yearRange&StartYear=1840&EndYear=2022&selRowPerPage=25&Line=2&searchMethod=contains&Month=11&Day=3&txtStationName=penticton&timeframe=3&Year=2012'\n",
    "driver = webdriver.Chrome(cdrive, options=get_options('penticton/months_by_years'))\n",
    "driver.get(url)\n",
    "driver.find_element(By.XPATH, '//*[@id=\"climateNav\"]/div[3]/section/div[1]/form/input[7]').click()\n",
    "time.sleep(1)\n",
    "driver.close()\n",
    "all_coords.append(['Penticton'] + get_coords(url))"
   ]
  },
  {
   "cell_type": "code",
   "execution_count": 17,
   "id": "23facaf2",
   "metadata": {},
   "outputs": [
    {
     "name": "stderr",
     "output_type": "stream",
     "text": [
      "/var/folders/f9/9vn_4nrs38q_5092cm0ssfhm0000gn/T/ipykernel_79954/887249751.py:4: DeprecationWarning: executable_path has been deprecated, please pass in a Service object\n",
      "  driver = webdriver.Chrome(cdrive, options=get_options('prince_rupert/days_by_year'))\n"
     ]
    }
   ],
   "source": [
    "#Prince Rupert, days_by_year\n",
    "url = ['https://climate.weather.gc.ca/climate_data/daily_data_e.html?hlyRange=%7C&dlyRange=1959-08-01%7C2022-03-29&mlyRange=1959-01-01%7C2004-12-01&StationID=424&Prov=BC&urlExtension=_e.html&searchType=stnName&optLimit=yearRange&StartYear=1840&EndYear=2022&selRowPerPage=25&Line=5&searchMethod=contains&Month=3&Day=3&txtStationName=prince+rupert&timeframe=2&Year=']\n",
    "for i in range(1970,2022):\n",
    "    driver = webdriver.Chrome(cdrive, options=get_options('prince_rupert/days_by_year'))\n",
    "    driver.get(url[0] + str(i))\n",
    "    driver.find_element(By.XPATH, '//*[@id=\"climateNav\"]/div[3]/section/div[1]/form/input[7]').click()\n",
    "    time.sleep(1)\n",
    "    driver.close()\n",
    "all_coords.append(['Prince Rupert'] + get_coords(url[0]+'2022'))"
   ]
  },
  {
   "cell_type": "code",
   "execution_count": 18,
   "id": "b1455aeb",
   "metadata": {},
   "outputs": [
    {
     "name": "stderr",
     "output_type": "stream",
     "text": [
      "/var/folders/f9/9vn_4nrs38q_5092cm0ssfhm0000gn/T/ipykernel_79954/2891005537.py:4: DeprecationWarning: executable_path has been deprecated, please pass in a Service object\n",
      "  driver = webdriver.Chrome(cdrive, options=get_options('dawson_creek/days_by_year'))\n",
      "/var/folders/f9/9vn_4nrs38q_5092cm0ssfhm0000gn/T/ipykernel_79954/2891005537.py:13: DeprecationWarning: executable_path has been deprecated, please pass in a Service object\n",
      "  driver = webdriver.Chrome(cdrive, options=get_options('dawson_creek/days_by_year'))\n",
      "/var/folders/f9/9vn_4nrs38q_5092cm0ssfhm0000gn/T/ipykernel_79954/2891005537.py:21: DeprecationWarning: executable_path has been deprecated, please pass in a Service object\n",
      "  driver = webdriver.Chrome(cdrive, options=get_options('dawson_creek/months_by_years'))\n"
     ]
    }
   ],
   "source": [
    "#Dawson Creek, days_by_year pt1\n",
    "url = ['https://climate.weather.gc.ca/climate_data/daily_data_e.html?hlyRange=2009-08-27%7C2022-11-03&dlyRange=2009-09-03%7C2022-11-03&mlyRange=%7C&StationID=48208&Prov=BC&urlExtension=_e.html&searchType=stnName&optLimit=yearRange&StartYear=1840&EndYear=2022&selRowPerPage=25&Line=1&searchMethod=contains&Month=11&Day=3&txtStationName=dawson+creek&timeframe=2&Year=']\n",
    "for i in range(2009,2022):\n",
    "    driver = webdriver.Chrome(cdrive, options=get_options('dawson_creek/days_by_year'))\n",
    "    driver.get(url[0] + str(i))\n",
    "    driver.find_element(By.XPATH, '//*[@id=\"climateNav\"]/div[3]/section/div[1]/form/input[7]').click()\n",
    "    time.sleep(1)\n",
    "    driver.close()\n",
    "\n",
    "#Dawson Creek, days_by_year pt2\n",
    "url = ['https://climate.weather.gc.ca/climate_data/daily_data_e.html?hlyRange=1964-01-23%7C2009-07-02&dlyRange=1968-03-01%7C2009-09-11&mlyRange=1968-01-01%7C2006-06-01&StationID=1404&Prov=BC&urlExtension=_e.html&searchType=stnName&optLimit=yearRange&StartYear=1840&EndYear=2022&selRowPerPage=25&Line=2&searchMethod=contains&Month=9&Day=3&txtStationName=dawson+creek&timeframe=2&Year=']\n",
    "for i in range(2007,2009):\n",
    "    driver = webdriver.Chrome(cdrive, options=get_options('dawson_creek/days_by_year'))\n",
    "    driver.get(url[0] + str(i))\n",
    "    driver.find_element(By.XPATH, '//*[@id=\"climateNav\"]/div[3]/section/div[1]/form/input[7]').click()\n",
    "    time.sleep(1)\n",
    "    driver.close()\n",
    "\n",
    "#Dawson Creek, months_by_years\n",
    "url = 'https://climate.weather.gc.ca/climate_data/monthly_data_e.html?hlyRange=1964-01-23%7C2009-07-02&dlyRange=1968-03-01%7C2009-09-11&mlyRange=1968-01-01%7C2006-06-01&StationID=1404&Prov=BC&urlExtension=_e.html&searchType=stnName&optLimit=yearRange&StartYear=1840&EndYear=2022&selRowPerPage=25&Line=2&searchMethod=contains&Month=11&Day=3&txtStationName=dawson+creek&timeframe=3&Year=2006'\n",
    "driver = webdriver.Chrome(cdrive, options=get_options('dawson_creek/months_by_years'))\n",
    "driver.get(url)\n",
    "driver.find_element(By.XPATH, '//*[@id=\"climateNav\"]/div[3]/section/div[1]/form/input[7]').click()\n",
    "time.sleep(1)\n",
    "driver.close()\n",
    "all_coords.append(['Dawson Creek'] + get_coords(url))"
   ]
  },
  {
   "cell_type": "code",
   "execution_count": 19,
   "id": "082cd66b",
   "metadata": {},
   "outputs": [
    {
     "name": "stderr",
     "output_type": "stream",
     "text": [
      "/var/folders/f9/9vn_4nrs38q_5092cm0ssfhm0000gn/T/ipykernel_79954/1678656225.py:4: DeprecationWarning: executable_path has been deprecated, please pass in a Service object\n",
      "  driver = webdriver.Chrome(cdrive, options=get_options('nakusp/days_by_year'))\n",
      "/var/folders/f9/9vn_4nrs38q_5092cm0ssfhm0000gn/T/ipykernel_79954/1678656225.py:12: DeprecationWarning: executable_path has been deprecated, please pass in a Service object\n",
      "  driver = webdriver.Chrome(cdrive, options=get_options('nakusp/months_by_years'))\n"
     ]
    }
   ],
   "source": [
    "#Nakusp, days_by_year\n",
    "url = ['https://climate.weather.gc.ca/climate_data/daily_data_e.html?hlyRange=1994-02-01%7C2022-11-03&dlyRange=1991-01-01%7C2022-11-03&mlyRange=1991-02-01%7C2006-11-01&StationID=6840&Prov=BC&urlExtension=_e.html&searchType=stnName&optLimit=yearRange&StartYear=1840&EndYear=2022&selRowPerPage=25&Line=1&searchMethod=contains&Month=11&Day=3&txtStationName=nakusp&timeframe=2&Year=']\n",
    "for i in range(1995,2022):\n",
    "    driver = webdriver.Chrome(cdrive, options=get_options('nakusp/days_by_year'))\n",
    "    driver.get(url[0] + str(i))\n",
    "    driver.find_element(By.XPATH, '//*[@id=\"climateNav\"]/div[3]/section/div[1]/form/input[7]').click()\n",
    "    time.sleep(1)\n",
    "    driver.close()\n",
    "    \n",
    "#Nakusp, months_by_years\n",
    "url = 'https://climate.weather.gc.ca/climate_data/monthly_data_e.html?hlyRange=%7C&dlyRange=1912-03-01%7C1995-02-28&mlyRange=1912-01-01%7C1995-02-01&StationID=1131&Prov=BC&urlExtension=_e.html&searchType=stnName&optLimit=yearRange&StartYear=1840&EndYear=2022&selRowPerPage=25&Line=0&searchMethod=contains&Month=11&Day=3&txtStationName=nakusp&timeframe=3&Year=1995'\n",
    "driver = webdriver.Chrome(cdrive, options=get_options('nakusp/months_by_years'))\n",
    "driver.get(url)\n",
    "driver.find_element(By.XPATH, '//*[@id=\"climateNav\"]/div[3]/section/div[1]/form/input[7]').click()\n",
    "time.sleep(1)\n",
    "driver.close()\n",
    "all_coords.append(['Nakusp'] + get_coords(url))"
   ]
  },
  {
   "cell_type": "code",
   "execution_count": 20,
   "id": "3e451c7c",
   "metadata": {},
   "outputs": [
    {
     "name": "stderr",
     "output_type": "stream",
     "text": [
      "/var/folders/f9/9vn_4nrs38q_5092cm0ssfhm0000gn/T/ipykernel_79954/2492838501.py:4: DeprecationWarning: executable_path has been deprecated, please pass in a Service object\n",
      "  driver = webdriver.Chrome(cdrive, options=get_options('dease_lake/days_by_year'))\n",
      "/var/folders/f9/9vn_4nrs38q_5092cm0ssfhm0000gn/T/ipykernel_79954/2492838501.py:12: DeprecationWarning: executable_path has been deprecated, please pass in a Service object\n",
      "  driver = webdriver.Chrome(cdrive, options=get_options('dease_lake/months_by_years'))\n"
     ]
    }
   ],
   "source": [
    "#Dease Lake, days_by_year\n",
    "url = ['https://climate.weather.gc.ca/climate_data/daily_data_e.html?hlyRange=1994-02-01%7C2022-11-03&dlyRange=1993-08-01%7C2022-11-03&mlyRange=1993-01-01%7C2007-02-01&StationID=6845&Prov=BC&urlExtension=_e.html&searchType=stnName&optLimit=yearRange&StartYear=1840&EndYear=2022&selRowPerPage=25&Line=1&searchMethod=contains&Month=11&Day=3&txtStationName=dease+lake&timeframe=2&Year=']\n",
    "for i in range(2007,2022):\n",
    "    driver = webdriver.Chrome(cdrive, options=get_options('dease_lake/days_by_year'))\n",
    "    driver.get(url[0] + str(i))\n",
    "    driver.find_element(By.XPATH, '//*[@id=\"climateNav\"]/div[3]/section/div[1]/form/input[7]').click()\n",
    "    time.sleep(1)\n",
    "    driver.close()\n",
    "    \n",
    "#Dease Lake, months_by_years\n",
    "url = 'https://climate.weather.gc.ca/climate_data/monthly_data_e.html?hlyRange=1953-01-01%7C2012-11-15&dlyRange=1944-09-01%7C2011-12-15&mlyRange=1944-01-01%7C2007-02-01&StationID=1454&Prov=BC&urlExtension=_e.html&searchType=stnName&optLimit=yearRange&StartYear=1840&EndYear=2022&selRowPerPage=25&Line=0&searchMethod=contains&Month=11&Day=3&txtStationName=dease+lake&timeframe=3&Year=2007'\n",
    "driver = webdriver.Chrome(cdrive, options=get_options('dease_lake/months_by_years'))\n",
    "driver.get(url)\n",
    "driver.find_element(By.XPATH, '//*[@id=\"climateNav\"]/div[3]/section/div[1]/form/input[7]').click()\n",
    "time.sleep(1)\n",
    "driver.close()\n",
    "all_coords.append(['Dease Lake'] + get_coords(url))"
   ]
  },
  {
   "cell_type": "code",
   "execution_count": 21,
   "id": "ed48f467",
   "metadata": {},
   "outputs": [
    {
     "name": "stderr",
     "output_type": "stream",
     "text": [
      "/var/folders/f9/9vn_4nrs38q_5092cm0ssfhm0000gn/T/ipykernel_79954/1494319301.py:4: DeprecationWarning: executable_path has been deprecated, please pass in a Service object\n",
      "  driver = webdriver.Chrome(cdrive, options=get_options('bella_coola/days_by_year'))\n",
      "/var/folders/f9/9vn_4nrs38q_5092cm0ssfhm0000gn/T/ipykernel_79954/1494319301.py:13: DeprecationWarning: executable_path has been deprecated, please pass in a Service object\n",
      "  driver = webdriver.Chrome(cdrive, options=get_options('bella_coola/days_by_year'))\n",
      "/var/folders/f9/9vn_4nrs38q_5092cm0ssfhm0000gn/T/ipykernel_79954/1494319301.py:21: DeprecationWarning: executable_path has been deprecated, please pass in a Service object\n",
      "  driver = webdriver.Chrome(cdrive, options=get_options('bella_coola/months_by_years'))\n"
     ]
    }
   ],
   "source": [
    "#Bella Coola, days_by_year pt1\n",
    "url = ['https://climate.weather.gc.ca/climate_data/daily_data_e.html?hlyRange=2014-10-23%7C2022-11-03&dlyRange=2018-10-29%7C2022-11-03&mlyRange=%7C&StationID=52978&Prov=BC&urlExtension=_e.html&searchType=stnName&optLimit=yearRange&StartYear=1840&EndYear=2022&selRowPerPage=25&Line=2&searchMethod=contains&Month=11&Day=3&txtStationName=bella+coola&timeframe=2&Year=']\n",
    "for i in range(2018,2022):\n",
    "    driver = webdriver.Chrome(cdrive, options=get_options('bella_coola/days_by_year'))\n",
    "    driver.get(url[0] + str(i))\n",
    "    driver.find_element(By.XPATH, '//*[@id=\"climateNav\"]/div[3]/section/div[1]/form/input[7]').click()\n",
    "    time.sleep(1)\n",
    "    driver.close()\n",
    "\n",
    "#Bella Coola, days_by_year pt2\n",
    "url = ['https://climate.weather.gc.ca/climate_data/daily_data_e.html?hlyRange=1983-02-01%7C2013-08-15&dlyRange=1983-02-01%7C2017-11-18&mlyRange=1983-01-01%7C2007-02-01&StationID=381&Prov=BC&urlExtension=_e.html&searchType=stnName&optLimit=yearRange&StartYear=1840&EndYear=2022&selRowPerPage=25&Line=1&searchMethod=contains&Month=11&Day=3&txtStationName=bella+coola&timeframe=2&Year=']\n",
    "for i in range(2007,2017):\n",
    "    driver = webdriver.Chrome(cdrive, options=get_options('bella_coola/days_by_year'))\n",
    "    driver.get(url[0] + str(i))\n",
    "    driver.find_element(By.XPATH, '//*[@id=\"climateNav\"]/div[3]/section/div[1]/form/input[7]').click()\n",
    "    time.sleep(1)\n",
    "    driver.close()\n",
    "\n",
    "#Bella Coola, months_by_years\n",
    "url = 'https://climate.weather.gc.ca/climate_data/monthly_data_e.html?hlyRange=1983-02-01%7C2013-08-15&dlyRange=1983-02-01%7C2017-11-18&mlyRange=1983-01-01%7C2007-02-01&StationID=381&Prov=BC&urlExtension=_e.html&searchType=stnName&optLimit=yearRange&StartYear=1840&EndYear=2022&selRowPerPage=25&Line=1&searchMethod=contains&Month=11&Day=3&txtStationName=bella+coola&timeframe=3&Year=2007'\n",
    "driver = webdriver.Chrome(cdrive, options=get_options('bella_coola/months_by_years'))\n",
    "driver.get(url)\n",
    "driver.find_element(By.XPATH, '//*[@id=\"climateNav\"]/div[3]/section/div[1]/form/input[7]').click()\n",
    "time.sleep(1)\n",
    "driver.close()\n",
    "all_coords.append(['Bella Coola'] + get_coords(url))"
   ]
  },
  {
   "cell_type": "code",
   "execution_count": 22,
   "id": "2f9622a9",
   "metadata": {},
   "outputs": [
    {
     "name": "stderr",
     "output_type": "stream",
     "text": [
      "/var/folders/f9/9vn_4nrs38q_5092cm0ssfhm0000gn/T/ipykernel_79954/512658330.py:4: DeprecationWarning: executable_path has been deprecated, please pass in a Service object\n",
      "  driver = webdriver.Chrome(cdrive, options=get_options('sparwood/days_by_year'))\n",
      "/var/folders/f9/9vn_4nrs38q_5092cm0ssfhm0000gn/T/ipykernel_79954/512658330.py:13: DeprecationWarning: executable_path has been deprecated, please pass in a Service object\n",
      "  driver = webdriver.Chrome(cdrive, options=get_options('sparwood/days_by_year'))\n",
      "/var/folders/f9/9vn_4nrs38q_5092cm0ssfhm0000gn/T/ipykernel_79954/512658330.py:21: DeprecationWarning: executable_path has been deprecated, please pass in a Service object\n",
      "  driver = webdriver.Chrome(cdrive, options=get_options('sparwood/months_by_years'))\n"
     ]
    }
   ],
   "source": [
    "#Sparwood, days_by_year pt1\n",
    "url = ['https://climate.weather.gc.ca/climate_data/daily_data_e.html?hlyRange=2014-10-23%7C2022-11-03&dlyRange=2018-10-29%7C2022-11-03&mlyRange=%7C&StationID=52959&Prov=BC&urlExtension=_e.html&searchType=stnName&optLimit=yearRange&StartYear=1840&EndYear=2022&selRowPerPage=25&Line=1&searchMethod=contains&Month=11&Day=3&txtStationName=sparwood&timeframe=2&Year=']\n",
    "for i in range(2018,2022):\n",
    "    driver = webdriver.Chrome(cdrive, options=get_options('sparwood/days_by_year'))\n",
    "    driver.get(url[0] + str(i))\n",
    "    driver.find_element(By.XPATH, '//*[@id=\"climateNav\"]/div[3]/section/div[1]/form/input[7]').click()\n",
    "    time.sleep(1)\n",
    "    driver.close()\n",
    "\n",
    "#Sparwood, days_by_year pt2\n",
    "url = ['https://climate.weather.gc.ca/climate_data/daily_data_e.html?hlyRange=1980-03-03%7C2014-10-02&dlyRange=1980-03-01%7C2020-02-22&mlyRange=1980-01-01%7C2007-02-01&StationID=1207&Prov=BC&urlExtension=_e.html&searchType=stnName&optLimit=yearRange&StartYear=1840&EndYear=2022&selRowPerPage=25&Line=0&searchMethod=contains&txtStationName=sparwood&timeframe=2&Day=3&Year=']\n",
    "for i in range(2007,2018):\n",
    "    driver = webdriver.Chrome(cdrive, options=get_options('sparwood/days_by_year'))\n",
    "    driver.get(url[0] + str(i))\n",
    "    driver.find_element(By.XPATH, '//*[@id=\"climateNav\"]/div[3]/section/div[1]/form/input[7]').click()\n",
    "    time.sleep(1)\n",
    "    driver.close()\n",
    "\n",
    "#Sparwood, months_by_years\n",
    "url = 'https://climate.weather.gc.ca/climate_data/monthly_data_e.html?hlyRange=1980-03-03%7C2014-10-02&dlyRange=1980-03-01%7C2020-02-22&mlyRange=1980-01-01%7C2007-02-01&StationID=1207&Prov=BC&urlExtension=_e.html&searchType=stnName&optLimit=yearRange&StartYear=1840&EndYear=2022&selRowPerPage=25&Line=0&searchMethod=contains&Month=11&Day=3&txtStationName=sparwood&timeframe=3&Year=2007'\n",
    "driver = webdriver.Chrome(cdrive, options=get_options('sparwood/months_by_years'))\n",
    "driver.get(url)\n",
    "driver.find_element(By.XPATH, '//*[@id=\"climateNav\"]/div[3]/section/div[1]/form/input[7]').click()\n",
    "time.sleep(1)\n",
    "driver.close()\n",
    "all_coords.append(['Sparwood'] + get_coords(url))"
   ]
  },
  {
   "cell_type": "code",
   "execution_count": 23,
   "id": "f98eb9e5",
   "metadata": {},
   "outputs": [
    {
     "name": "stderr",
     "output_type": "stream",
     "text": [
      "/var/folders/f9/9vn_4nrs38q_5092cm0ssfhm0000gn/T/ipykernel_79954/1639933978.py:4: DeprecationWarning: executable_path has been deprecated, please pass in a Service object\n",
      "  driver = webdriver.Chrome(cdrive, options=get_options('golden/days_by_year'))\n",
      "/var/folders/f9/9vn_4nrs38q_5092cm0ssfhm0000gn/T/ipykernel_79954/1639933978.py:12: DeprecationWarning: executable_path has been deprecated, please pass in a Service object\n",
      "  driver = webdriver.Chrome(cdrive, options=get_options('golden/months_by_years'))\n"
     ]
    }
   ],
   "source": [
    "#Golden, days_by_year\n",
    "url = ['https://climate.weather.gc.ca/climate_data/daily_data_e.html?hlyRange=1991-10-01%7C2014-08-07&dlyRange=1902-04-01%7C2023-01-11&mlyRange=1902-01-01%7C2007-02-01&StationID=1364&Prov=BC&urlExtension=_e.html&searchType=stnName&optLimit=yearRange&StartYear=1840&EndYear=2023&selRowPerPage=25&Line=2&searchMethod=contains&Month=12&Day=16&txtStationName=golden&timeframe=2&Year=']\n",
    "for i in range(2007,2022):\n",
    "    driver = webdriver.Chrome(cdrive, options=get_options('golden/days_by_year'))\n",
    "    driver.get(url[0] + str(i))\n",
    "    driver.find_element(By.XPATH, '//*[@id=\"climateNav\"]/div[3]/section/div[1]/form/input[7]').click()\n",
    "    time.sleep(1)\n",
    "    driver.close()\n",
    "    \n",
    "#Golden, months_by_years\n",
    "url = 'https://climate.weather.gc.ca/climate_data/monthly_data_e.html?hlyRange=1991-10-01%7C2014-08-07&dlyRange=1902-04-01%7C2023-01-11&mlyRange=1902-01-01%7C2007-02-01&StationID=1364&Prov=BC&urlExtension=_e.html&searchType=stnName&optLimit=yearRange&StartYear=1840&EndYear=2023&selRowPerPage=25&Line=2&searchMethod=contains&txtStationName=golden&timeframe=3&Month=1&Day=16&Year=2006#'\n",
    "driver = webdriver.Chrome(cdrive, options=get_options('golden/months_by_years'))\n",
    "driver.get(url)\n",
    "driver.find_element(By.XPATH, '//*[@id=\"climateNav\"]/div[3]/section/div[1]/form/input[7]').click()\n",
    "time.sleep(1)\n",
    "driver.close()\n",
    "all_coords.append(['Golden'] + get_coords(url))"
   ]
  },
  {
   "cell_type": "code",
   "execution_count": 24,
   "id": "d3f2eabb",
   "metadata": {},
   "outputs": [
    {
     "name": "stderr",
     "output_type": "stream",
     "text": [
      "/var/folders/f9/9vn_4nrs38q_5092cm0ssfhm0000gn/T/ipykernel_79954/1800713939.py:4: DeprecationWarning: executable_path has been deprecated, please pass in a Service object\n",
      "  driver = webdriver.Chrome(cdrive, options=get_options('fort_nelson/days_by_year'))\n",
      "/var/folders/f9/9vn_4nrs38q_5092cm0ssfhm0000gn/T/ipykernel_79954/1800713939.py:12: DeprecationWarning: executable_path has been deprecated, please pass in a Service object\n",
      "  driver = webdriver.Chrome(cdrive, options=get_options('fort_nelson/months_by_years'))\n"
     ]
    }
   ],
   "source": [
    "#Fort Nelson, days_by_year\n",
    "url = ['https://climate.weather.gc.ca/climate_data/daily_data_e.html?hlyRange=2012-11-08%7C2023-01-16&dlyRange=2012-11-08%7C2023-01-16&mlyRange=%7C&StationID=50819&Prov=BC&urlExtension=_e.html&searchType=stnName&optLimit=yearRange&StartYear=1840&EndYear=2023&selRowPerPage=25&Line=1&searchMethod=contains&txtStationName=fort+nelson&timeframe=2&Day=16&Year=']\n",
    "for i in range(2012,2022):\n",
    "    driver = webdriver.Chrome(cdrive, options=get_options('fort_nelson/days_by_year'))\n",
    "    driver.get(url[0] + str(i))\n",
    "    driver.find_element(By.XPATH, '//*[@id=\"climateNav\"]/div[3]/section/div[1]/form/input[7]').click()\n",
    "    time.sleep(1)\n",
    "    driver.close()\n",
    "    \n",
    "#Fort Nelson, months_by_years\n",
    "url = 'https://climate.weather.gc.ca/climate_data/monthly_data_e.html?hlyRange=1953-01-01%7C2012-11-08&dlyRange=1937-09-01%7C2012-11-14&mlyRange=1937-01-01%7C2012-11-01&StationID=1455&Prov=BC&urlExtension=_e.html&searchType=stnName&optLimit=yearRange&StartYear=1840&EndYear=2023&selRowPerPage=25&Line=2&searchMethod=contains&txtStationName=fort+nelson&timeframe=3&Month=1&Day=16&Year=2011#'\n",
    "driver = webdriver.Chrome(cdrive, options=get_options('fort_nelson/months_by_years'))\n",
    "driver.get(url)\n",
    "driver.find_element(By.XPATH, '//*[@id=\"climateNav\"]/div[3]/section/div[1]/form/input[7]').click()\n",
    "time.sleep(1)\n",
    "driver.close()\n",
    "all_coords.append(['Fort Nelson'] + get_coords(url))"
   ]
  },
  {
   "cell_type": "code",
   "execution_count": 25,
   "id": "0e463f6c",
   "metadata": {},
   "outputs": [],
   "source": [
    "out_coords = pd.DataFrame(all_coords)\n",
    "out_coords.to_csv('weather_stations_coordinates.csv', index=False)"
   ]
  },
  {
   "cell_type": "code",
   "execution_count": null,
   "id": "949a9163",
   "metadata": {},
   "outputs": [],
   "source": []
  }
 ],
 "metadata": {
  "kernelspec": {
   "display_name": "Python 3 (ipykernel)",
   "language": "python",
   "name": "python3"
  },
  "language_info": {
   "codemirror_mode": {
    "name": "ipython",
    "version": 3
   },
   "file_extension": ".py",
   "mimetype": "text/x-python",
   "name": "python",
   "nbconvert_exporter": "python",
   "pygments_lexer": "ipython3",
   "version": "3.9.15"
  }
 },
 "nbformat": 4,
 "nbformat_minor": 5
}
